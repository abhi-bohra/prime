{
 "cells": [
  {
   "cell_type": "code",
   "execution_count": 2,
   "id": "f3f42a4e",
   "metadata": {},
   "outputs": [
    {
     "name": "stdout",
     "output_type": "stream",
     "text": [
      "Enter a number:20\n",
      "Prime numbers are: [2, 3, 5, 7, 11, 13, 17, 19]\n"
     ]
    }
   ],
   "source": [
    "import math\n",
    "class Prime:\n",
    "    def __init__(self, n):\n",
    "        self.n = n\n",
    "    \n",
    "    def isprime(self):\n",
    "        primes = []\n",
    "        for i in range(2,self.n+1):\n",
    "            primes.append(i)\n",
    "    \n",
    "        for j in range(2,int(math.sqrt(self.n))):\n",
    "            for k in range(j*2, self.n+1, j):\n",
    "                if k not in primes:\n",
    "                    continue\n",
    "                #print(primes)\n",
    "                #print(k)\n",
    "                primes.remove(k)\n",
    "       \n",
    "        print('Prime numbers are:', primes)\n",
    "    \n",
    "p1 = Prime(int(input('Enter a number:')))\n",
    "p1.isprime()"
   ]
  },
  {
   "cell_type": "code",
   "execution_count": null,
   "id": "56c84b2d",
   "metadata": {},
   "outputs": [],
   "source": []
  }
 ],
 "metadata": {
  "kernelspec": {
   "display_name": "Python 3",
   "language": "python",
   "name": "python3"
  },
  "language_info": {
   "codemirror_mode": {
    "name": "ipython",
    "version": 3
   },
   "file_extension": ".py",
   "mimetype": "text/x-python",
   "name": "python",
   "nbconvert_exporter": "python",
   "pygments_lexer": "ipython3",
   "version": "3.5.2"
  }
 },
 "nbformat": 4,
 "nbformat_minor": 5
}
