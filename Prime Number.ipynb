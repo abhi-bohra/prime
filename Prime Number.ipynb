{
 "cells": [
  {
   "cell_type": "code",
   "execution_count": 1,
   "id": "2afd7bbe",
   "metadata": {},
   "outputs": [
    {
     "name": "stdout",
     "output_type": "stream",
     "text": [
      "Enter the lower range:20\n",
      "Enter the upper range:100\n",
      "23\n",
      "29\n",
      "31\n",
      "37\n",
      "41\n",
      "43\n",
      "47\n",
      "53\n",
      "59\n",
      "61\n",
      "67\n",
      "71\n",
      "73\n",
      "79\n",
      "83\n",
      "89\n",
      "97\n"
     ]
    }
   ],
   "source": [
    "class Prime:\n",
    "    def __init__(self, lr, ur):\n",
    "        self.lr = lr\n",
    "        self.ur = ur\n",
    "    \n",
    "    def isprime(self):\n",
    "        for i in range(self.lr, self.ur):\n",
    "            \n",
    "            if i == 2 or i == 3 or i == 5 or i == 7:\n",
    "                True\n",
    "                print(i)\n",
    "                \n",
    "            elif i % 2 == 0:\n",
    "                False\n",
    "            \n",
    "            elif i % 3 == 0:\n",
    "                False\n",
    "                \n",
    "            elif i % 5 == 0:\n",
    "                False\n",
    "                \n",
    "            elif i % 7 == 0:\n",
    "                False\n",
    "                \n",
    "            else:\n",
    "                True\n",
    "                print(i)\n",
    "               \n",
    "            \n",
    "p1 = Prime(int(input('Enter the lower range:')), int(input('Enter the upper range:')))\n",
    "p1.isprime()"
   ]
  },
  {
   "cell_type": "code",
   "execution_count": null,
   "id": "beac05ef",
   "metadata": {},
   "outputs": [],
   "source": []
  }
 ],
 "metadata": {
  "kernelspec": {
   "display_name": "Python 3",
   "language": "python",
   "name": "python3"
  },
  "language_info": {
   "codemirror_mode": {
    "name": "ipython",
    "version": 3
   },
   "file_extension": ".py",
   "mimetype": "text/x-python",
   "name": "python",
   "nbconvert_exporter": "python",
   "pygments_lexer": "ipython3",
   "version": "3.5.2"
  }
 },
 "nbformat": 4,
 "nbformat_minor": 5
}
